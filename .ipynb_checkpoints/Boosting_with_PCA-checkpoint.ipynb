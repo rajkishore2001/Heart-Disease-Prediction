{
 "cells": [
  {
   "cell_type": "code",
   "execution_count": 1,
   "id": "80ec974f",
   "metadata": {},
   "outputs": [],
   "source": [
    "import numpy as np\n",
    "import pandas as pd\n",
    "import matplotlib.pyplot as plt\n",
    "from matplotlib import rcParams\n",
    "from matplotlib.cm import rainbow\n",
    "%matplotlib inline\n",
    "from sklearn.linear_model import LogisticRegression\n",
    "from sklearn.neighbors import KNeighborsClassifier\n",
    "from sklearn.tree import DecisionTreeClassifier\n",
    "from sklearn.ensemble import RandomForestClassifier\n",
    "from sklearn.svm import SVC\n",
    "from sklearn.naive_bayes import GaussianNB\n",
    "from sklearn.preprocessing import StandardScaler\n",
    "from sklearn.model_selection import ShuffleSplit\n",
    "from sklearn.model_selection import cross_val_score\n",
    "from sklearn.ensemble import BaggingClassifier\n",
    "from sklearn.ensemble import AdaBoostClassifier"
   ]
  },
  {
   "cell_type": "code",
   "execution_count": 2,
   "id": "19c0b0d1",
   "metadata": {},
   "outputs": [
    {
     "name": "stdout",
     "output_type": "stream",
     "text": [
      "<class 'pandas.core.frame.DataFrame'>\n",
      "RangeIndex: 1025 entries, 0 to 1024\n",
      "Data columns (total 14 columns):\n",
      " #   Column    Non-Null Count  Dtype  \n",
      "---  ------    --------------  -----  \n",
      " 0   age       1025 non-null   int64  \n",
      " 1   sex       1025 non-null   int64  \n",
      " 2   cp        1025 non-null   int64  \n",
      " 3   trestbps  1025 non-null   int64  \n",
      " 4   chol      1025 non-null   int64  \n",
      " 5   fbs       1025 non-null   int64  \n",
      " 6   restecg   1025 non-null   int64  \n",
      " 7   thalach   1025 non-null   int64  \n",
      " 8   exang     1025 non-null   int64  \n",
      " 9   oldpeak   1025 non-null   float64\n",
      " 10  slope     1025 non-null   int64  \n",
      " 11  ca        1025 non-null   int64  \n",
      " 12  thal      1025 non-null   int64  \n",
      " 13  target    1025 non-null   int64  \n",
      "dtypes: float64(1), int64(13)\n",
      "memory usage: 112.2 KB\n"
     ]
    }
   ],
   "source": [
    "DATA_SET = pd.read_csv('./heart.csv')\n",
    "DATA_SET.info()"
   ]
  },
  {
   "cell_type": "code",
   "execution_count": 3,
   "id": "1633cce4",
   "metadata": {},
   "outputs": [
    {
     "data": {
      "text/html": [
       "<div>\n",
       "<style scoped>\n",
       "    .dataframe tbody tr th:only-of-type {\n",
       "        vertical-align: middle;\n",
       "    }\n",
       "\n",
       "    .dataframe tbody tr th {\n",
       "        vertical-align: top;\n",
       "    }\n",
       "\n",
       "    .dataframe thead th {\n",
       "        text-align: right;\n",
       "    }\n",
       "</style>\n",
       "<table border=\"1\" class=\"dataframe\">\n",
       "  <thead>\n",
       "    <tr style=\"text-align: right;\">\n",
       "      <th></th>\n",
       "      <th>cp</th>\n",
       "      <th>ca</th>\n",
       "      <th>thal</th>\n",
       "      <th>age</th>\n",
       "      <th>chol</th>\n",
       "      <th>oldpeak</th>\n",
       "      <th>target</th>\n",
       "    </tr>\n",
       "  </thead>\n",
       "  <tbody>\n",
       "    <tr>\n",
       "      <th>0</th>\n",
       "      <td>0</td>\n",
       "      <td>2</td>\n",
       "      <td>3</td>\n",
       "      <td>52</td>\n",
       "      <td>212</td>\n",
       "      <td>1.0</td>\n",
       "      <td>0</td>\n",
       "    </tr>\n",
       "    <tr>\n",
       "      <th>1</th>\n",
       "      <td>0</td>\n",
       "      <td>0</td>\n",
       "      <td>3</td>\n",
       "      <td>53</td>\n",
       "      <td>203</td>\n",
       "      <td>3.1</td>\n",
       "      <td>0</td>\n",
       "    </tr>\n",
       "    <tr>\n",
       "      <th>2</th>\n",
       "      <td>0</td>\n",
       "      <td>0</td>\n",
       "      <td>3</td>\n",
       "      <td>70</td>\n",
       "      <td>174</td>\n",
       "      <td>2.6</td>\n",
       "      <td>0</td>\n",
       "    </tr>\n",
       "    <tr>\n",
       "      <th>3</th>\n",
       "      <td>0</td>\n",
       "      <td>1</td>\n",
       "      <td>3</td>\n",
       "      <td>61</td>\n",
       "      <td>203</td>\n",
       "      <td>0.0</td>\n",
       "      <td>0</td>\n",
       "    </tr>\n",
       "    <tr>\n",
       "      <th>4</th>\n",
       "      <td>0</td>\n",
       "      <td>3</td>\n",
       "      <td>2</td>\n",
       "      <td>62</td>\n",
       "      <td>294</td>\n",
       "      <td>1.9</td>\n",
       "      <td>0</td>\n",
       "    </tr>\n",
       "  </tbody>\n",
       "</table>\n",
       "</div>"
      ],
      "text/plain": [
       "   cp  ca  thal  age  chol  oldpeak  target\n",
       "0   0   2     3   52   212      1.0       0\n",
       "1   0   0     3   53   203      3.1       0\n",
       "2   0   0     3   70   174      2.6       0\n",
       "3   0   1     3   61   203      0.0       0\n",
       "4   0   3     2   62   294      1.9       0"
      ]
     },
     "execution_count": 3,
     "metadata": {},
     "output_type": "execute_result"
    }
   ],
   "source": [
    "DATA_SET = pd.DataFrame(DATA_SET,columns = ['cp', 'ca', 'thal','age', 'chol', 'oldpeak', 'target'])\n",
    "DATA_SET.head()"
   ]
  },
  {
   "cell_type": "code",
   "execution_count": 4,
   "id": "9c33f313",
   "metadata": {},
   "outputs": [
    {
     "data": {
      "text/html": [
       "<div>\n",
       "<style scoped>\n",
       "    .dataframe tbody tr th:only-of-type {\n",
       "        vertical-align: middle;\n",
       "    }\n",
       "\n",
       "    .dataframe tbody tr th {\n",
       "        vertical-align: top;\n",
       "    }\n",
       "\n",
       "    .dataframe thead th {\n",
       "        text-align: right;\n",
       "    }\n",
       "</style>\n",
       "<table border=\"1\" class=\"dataframe\">\n",
       "  <thead>\n",
       "    <tr style=\"text-align: right;\">\n",
       "      <th></th>\n",
       "      <th>age</th>\n",
       "      <th>chol</th>\n",
       "      <th>oldpeak</th>\n",
       "      <th>target</th>\n",
       "      <th>cp_0</th>\n",
       "      <th>cp_1</th>\n",
       "      <th>cp_2</th>\n",
       "      <th>cp_3</th>\n",
       "      <th>ca_0</th>\n",
       "      <th>ca_1</th>\n",
       "      <th>ca_2</th>\n",
       "      <th>ca_3</th>\n",
       "      <th>ca_4</th>\n",
       "      <th>thal_0</th>\n",
       "      <th>thal_1</th>\n",
       "      <th>thal_2</th>\n",
       "      <th>thal_3</th>\n",
       "    </tr>\n",
       "  </thead>\n",
       "  <tbody>\n",
       "    <tr>\n",
       "      <th>0</th>\n",
       "      <td>52</td>\n",
       "      <td>212</td>\n",
       "      <td>1.0</td>\n",
       "      <td>0</td>\n",
       "      <td>1</td>\n",
       "      <td>0</td>\n",
       "      <td>0</td>\n",
       "      <td>0</td>\n",
       "      <td>0</td>\n",
       "      <td>0</td>\n",
       "      <td>1</td>\n",
       "      <td>0</td>\n",
       "      <td>0</td>\n",
       "      <td>0</td>\n",
       "      <td>0</td>\n",
       "      <td>0</td>\n",
       "      <td>1</td>\n",
       "    </tr>\n",
       "    <tr>\n",
       "      <th>1</th>\n",
       "      <td>53</td>\n",
       "      <td>203</td>\n",
       "      <td>3.1</td>\n",
       "      <td>0</td>\n",
       "      <td>1</td>\n",
       "      <td>0</td>\n",
       "      <td>0</td>\n",
       "      <td>0</td>\n",
       "      <td>1</td>\n",
       "      <td>0</td>\n",
       "      <td>0</td>\n",
       "      <td>0</td>\n",
       "      <td>0</td>\n",
       "      <td>0</td>\n",
       "      <td>0</td>\n",
       "      <td>0</td>\n",
       "      <td>1</td>\n",
       "    </tr>\n",
       "    <tr>\n",
       "      <th>2</th>\n",
       "      <td>70</td>\n",
       "      <td>174</td>\n",
       "      <td>2.6</td>\n",
       "      <td>0</td>\n",
       "      <td>1</td>\n",
       "      <td>0</td>\n",
       "      <td>0</td>\n",
       "      <td>0</td>\n",
       "      <td>1</td>\n",
       "      <td>0</td>\n",
       "      <td>0</td>\n",
       "      <td>0</td>\n",
       "      <td>0</td>\n",
       "      <td>0</td>\n",
       "      <td>0</td>\n",
       "      <td>0</td>\n",
       "      <td>1</td>\n",
       "    </tr>\n",
       "    <tr>\n",
       "      <th>3</th>\n",
       "      <td>61</td>\n",
       "      <td>203</td>\n",
       "      <td>0.0</td>\n",
       "      <td>0</td>\n",
       "      <td>1</td>\n",
       "      <td>0</td>\n",
       "      <td>0</td>\n",
       "      <td>0</td>\n",
       "      <td>0</td>\n",
       "      <td>1</td>\n",
       "      <td>0</td>\n",
       "      <td>0</td>\n",
       "      <td>0</td>\n",
       "      <td>0</td>\n",
       "      <td>0</td>\n",
       "      <td>0</td>\n",
       "      <td>1</td>\n",
       "    </tr>\n",
       "    <tr>\n",
       "      <th>4</th>\n",
       "      <td>62</td>\n",
       "      <td>294</td>\n",
       "      <td>1.9</td>\n",
       "      <td>0</td>\n",
       "      <td>1</td>\n",
       "      <td>0</td>\n",
       "      <td>0</td>\n",
       "      <td>0</td>\n",
       "      <td>0</td>\n",
       "      <td>0</td>\n",
       "      <td>0</td>\n",
       "      <td>1</td>\n",
       "      <td>0</td>\n",
       "      <td>0</td>\n",
       "      <td>0</td>\n",
       "      <td>1</td>\n",
       "      <td>0</td>\n",
       "    </tr>\n",
       "  </tbody>\n",
       "</table>\n",
       "</div>"
      ],
      "text/plain": [
       "   age  chol  oldpeak  target  cp_0  cp_1  cp_2  cp_3  ca_0  ca_1  ca_2  ca_3  \\\n",
       "0   52   212      1.0       0     1     0     0     0     0     0     1     0   \n",
       "1   53   203      3.1       0     1     0     0     0     1     0     0     0   \n",
       "2   70   174      2.6       0     1     0     0     0     1     0     0     0   \n",
       "3   61   203      0.0       0     1     0     0     0     0     1     0     0   \n",
       "4   62   294      1.9       0     1     0     0     0     0     0     0     1   \n",
       "\n",
       "   ca_4  thal_0  thal_1  thal_2  thal_3  \n",
       "0     0       0       0       0       1  \n",
       "1     0       0       0       0       1  \n",
       "2     0       0       0       0       1  \n",
       "3     0       0       0       0       1  \n",
       "4     0       0       0       1       0  "
      ]
     },
     "execution_count": 4,
     "metadata": {},
     "output_type": "execute_result"
    }
   ],
   "source": [
    "DATA_SET = pd.get_dummies(DATA_SET, columns = ['cp', 'ca', 'thal'])\n",
    "DATA_SET.head()"
   ]
  },
  {
   "cell_type": "code",
   "execution_count": 5,
   "id": "cba62d20",
   "metadata": {},
   "outputs": [
    {
     "data": {
      "text/html": [
       "<div>\n",
       "<style scoped>\n",
       "    .dataframe tbody tr th:only-of-type {\n",
       "        vertical-align: middle;\n",
       "    }\n",
       "\n",
       "    .dataframe tbody tr th {\n",
       "        vertical-align: top;\n",
       "    }\n",
       "\n",
       "    .dataframe thead th {\n",
       "        text-align: right;\n",
       "    }\n",
       "</style>\n",
       "<table border=\"1\" class=\"dataframe\">\n",
       "  <thead>\n",
       "    <tr style=\"text-align: right;\">\n",
       "      <th></th>\n",
       "      <th>age</th>\n",
       "      <th>chol</th>\n",
       "      <th>oldpeak</th>\n",
       "      <th>target</th>\n",
       "      <th>cp_0</th>\n",
       "      <th>cp_1</th>\n",
       "      <th>cp_2</th>\n",
       "      <th>cp_3</th>\n",
       "      <th>ca_0</th>\n",
       "      <th>ca_1</th>\n",
       "      <th>ca_2</th>\n",
       "      <th>ca_3</th>\n",
       "      <th>ca_4</th>\n",
       "      <th>thal_0</th>\n",
       "      <th>thal_1</th>\n",
       "      <th>thal_2</th>\n",
       "      <th>thal_3</th>\n",
       "    </tr>\n",
       "  </thead>\n",
       "  <tbody>\n",
       "    <tr>\n",
       "      <th>0</th>\n",
       "      <td>-0.268437</td>\n",
       "      <td>-0.659332</td>\n",
       "      <td>-0.060888</td>\n",
       "      <td>0</td>\n",
       "      <td>1</td>\n",
       "      <td>0</td>\n",
       "      <td>0</td>\n",
       "      <td>0</td>\n",
       "      <td>0</td>\n",
       "      <td>0</td>\n",
       "      <td>1</td>\n",
       "      <td>0</td>\n",
       "      <td>0</td>\n",
       "      <td>0</td>\n",
       "      <td>0</td>\n",
       "      <td>0</td>\n",
       "      <td>1</td>\n",
       "    </tr>\n",
       "    <tr>\n",
       "      <th>1</th>\n",
       "      <td>-0.158157</td>\n",
       "      <td>-0.833861</td>\n",
       "      <td>1.727137</td>\n",
       "      <td>0</td>\n",
       "      <td>1</td>\n",
       "      <td>0</td>\n",
       "      <td>0</td>\n",
       "      <td>0</td>\n",
       "      <td>1</td>\n",
       "      <td>0</td>\n",
       "      <td>0</td>\n",
       "      <td>0</td>\n",
       "      <td>0</td>\n",
       "      <td>0</td>\n",
       "      <td>0</td>\n",
       "      <td>0</td>\n",
       "      <td>1</td>\n",
       "    </tr>\n",
       "    <tr>\n",
       "      <th>2</th>\n",
       "      <td>1.716595</td>\n",
       "      <td>-1.396233</td>\n",
       "      <td>1.301417</td>\n",
       "      <td>0</td>\n",
       "      <td>1</td>\n",
       "      <td>0</td>\n",
       "      <td>0</td>\n",
       "      <td>0</td>\n",
       "      <td>1</td>\n",
       "      <td>0</td>\n",
       "      <td>0</td>\n",
       "      <td>0</td>\n",
       "      <td>0</td>\n",
       "      <td>0</td>\n",
       "      <td>0</td>\n",
       "      <td>0</td>\n",
       "      <td>1</td>\n",
       "    </tr>\n",
       "    <tr>\n",
       "      <th>3</th>\n",
       "      <td>0.724079</td>\n",
       "      <td>-0.833861</td>\n",
       "      <td>-0.912329</td>\n",
       "      <td>0</td>\n",
       "      <td>1</td>\n",
       "      <td>0</td>\n",
       "      <td>0</td>\n",
       "      <td>0</td>\n",
       "      <td>0</td>\n",
       "      <td>1</td>\n",
       "      <td>0</td>\n",
       "      <td>0</td>\n",
       "      <td>0</td>\n",
       "      <td>0</td>\n",
       "      <td>0</td>\n",
       "      <td>0</td>\n",
       "      <td>1</td>\n",
       "    </tr>\n",
       "    <tr>\n",
       "      <th>4</th>\n",
       "      <td>0.834359</td>\n",
       "      <td>0.930822</td>\n",
       "      <td>0.705408</td>\n",
       "      <td>0</td>\n",
       "      <td>1</td>\n",
       "      <td>0</td>\n",
       "      <td>0</td>\n",
       "      <td>0</td>\n",
       "      <td>0</td>\n",
       "      <td>0</td>\n",
       "      <td>0</td>\n",
       "      <td>1</td>\n",
       "      <td>0</td>\n",
       "      <td>0</td>\n",
       "      <td>0</td>\n",
       "      <td>1</td>\n",
       "      <td>0</td>\n",
       "    </tr>\n",
       "  </tbody>\n",
       "</table>\n",
       "</div>"
      ],
      "text/plain": [
       "        age      chol   oldpeak  target  cp_0  cp_1  cp_2  cp_3  ca_0  ca_1  \\\n",
       "0 -0.268437 -0.659332 -0.060888       0     1     0     0     0     0     0   \n",
       "1 -0.158157 -0.833861  1.727137       0     1     0     0     0     1     0   \n",
       "2  1.716595 -1.396233  1.301417       0     1     0     0     0     1     0   \n",
       "3  0.724079 -0.833861 -0.912329       0     1     0     0     0     0     1   \n",
       "4  0.834359  0.930822  0.705408       0     1     0     0     0     0     0   \n",
       "\n",
       "   ca_2  ca_3  ca_4  thal_0  thal_1  thal_2  thal_3  \n",
       "0     1     0     0       0       0       0       1  \n",
       "1     0     0     0       0       0       0       1  \n",
       "2     0     0     0       0       0       0       1  \n",
       "3     0     0     0       0       0       0       1  \n",
       "4     0     1     0       0       0       1       0  "
      ]
     },
     "execution_count": 5,
     "metadata": {},
     "output_type": "execute_result"
    }
   ],
   "source": [
    "standardScaler = StandardScaler()\n",
    "columns_to_scale = ['age', 'chol', 'oldpeak']\n",
    "DATA_SET[columns_to_scale] = standardScaler.fit_transform(DATA_SET[columns_to_scale])\n",
    "DATA_SET.head()"
   ]
  },
  {
   "cell_type": "code",
   "execution_count": 6,
   "id": "79f58568",
   "metadata": {},
   "outputs": [],
   "source": [
    "Y = DATA_SET['target'].values\n",
    "X = DATA_SET.drop(['target'], axis = 1).values"
   ]
  },
  {
   "cell_type": "code",
   "execution_count": 7,
   "id": "33ddd842",
   "metadata": {},
   "outputs": [],
   "source": [
    "def get_score(model):\n",
    "    ssplit=ShuffleSplit(n_splits=10,test_size=0.25,random_state = 0)\n",
    "    results=cross_val_score(model,X,Y,cv=ssplit)\n",
    "    return np.mean(results)"
   ]
  },
  {
   "cell_type": "markdown",
   "id": "cc3e291f",
   "metadata": {},
   "source": [
    "## KNN - BOOSTING"
   ]
  },
  {
   "cell_type": "code",
   "execution_count": 8,
   "id": "f19c0eaa",
   "metadata": {},
   "outputs": [],
   "source": [
    "# KNN_scores = []\n",
    "# for k in range(1,21,1):\n",
    "#     model_KNN = KNeighborsClassifier(n_neighbors = k)\n",
    "#     boosting_model = AdaBoostClassifier(n_estimators=50, base_estimator=model_KNN,learning_rate=1, random_state = 0)\n",
    "#     KNN_scores.append(get_score(boosting_model)*100)"
   ]
  },
  {
   "cell_type": "markdown",
   "id": "3e6bcfd4",
   "metadata": {},
   "source": [
    "## SVM - BOOSTING\n"
   ]
  },
  {
   "cell_type": "code",
   "execution_count": 9,
   "id": "64b85a54",
   "metadata": {},
   "outputs": [
    {
     "data": {
      "text/plain": [
       "{'linear': 0.7019455252918287,\n",
       " 'poly': 0.7505836575875486,\n",
       " 'rbf': 0.7992217898832685,\n",
       " 'sigmoid': 0.7105058365758755}"
      ]
     },
     "execution_count": 9,
     "metadata": {},
     "output_type": "execute_result"
    }
   ],
   "source": [
    "SVM_scores = {}\n",
    "kernels = ['linear', 'poly', 'rbf', 'sigmoid']\n",
    "for i in range(len(kernels)):\n",
    "    model_SVM = SVC(kernel = kernels[i],probability=True)\n",
    "    boosting_model = AdaBoostClassifier(n_estimators=50, base_estimator=model_SVM,learning_rate=1, random_state = 0)\n",
    "    SVM_scores[kernels[i]] = (get_score(boosting_model))\n",
    "SVM_scores"
   ]
  },
  {
   "cell_type": "code",
   "execution_count": 10,
   "id": "677382a6",
   "metadata": {
    "scrolled": true
   },
   "outputs": [
    {
     "data": {
      "text/plain": [
       "79.92217898832685"
      ]
     },
     "execution_count": 10,
     "metadata": {},
     "output_type": "execute_result"
    }
   ],
   "source": [
    "model_SVM = SVC(kernel = 'rbf',probability=True)\n",
    "get_score(AdaBoostClassifier(n_estimators=50, base_estimator=model_SVM,learning_rate=1, random_state = 0)) * 100\n"
   ]
  },
  {
   "cell_type": "markdown",
   "id": "7c84b004",
   "metadata": {},
   "source": [
    "# DT - BOOSTING"
   ]
  },
  {
   "cell_type": "code",
   "execution_count": 11,
   "id": "81bb3c2f",
   "metadata": {},
   "outputs": [],
   "source": [
    "DT_scores = []\n",
    "for i in range(1, len(DATA_SET.columns)):\n",
    "    model_DT = DecisionTreeClassifier(max_features = i, random_state = 0,)\n",
    "    boosting_model = AdaBoostClassifier(n_estimators=50, base_estimator=model_DT,learning_rate=1, random_state = 0) \n",
    "    DT_scores.append(get_score(boosting_model))"
   ]
  },
  {
   "cell_type": "code",
   "execution_count": 12,
   "id": "c520c512",
   "metadata": {},
   "outputs": [
    {
     "data": {
      "text/plain": [
       "Text(0.5, 1.0, 'DT Classifier Accuracy for different Max Features')"
      ]
     },
     "execution_count": 12,
     "metadata": {},
     "output_type": "execute_result"
    },
    {
     "data": {
      "image/png": "[encoded data removed]",
      "text/plain": [
       "<Figure size 432x288 with 1 Axes>"
      ]
     },
     "metadata": {
      "needs_background": "light"
     },
     "output_type": "display_data"
    }
   ],
   "source": [
    "plt.plot([k for k in range(1, len(DATA_SET.columns))], DT_scores, color = 'red')\n",
    "plt.xlabel('Max Features')\n",
    "plt.ylabel('Accuracy')\n",
    "plt.title('DT Classifier Accuracy for different Max Features')"
   ]
  },
  {
   "cell_type": "code",
   "execution_count": 13,
   "id": "494d3066",
   "metadata": {},
   "outputs": [
    {
     "data": {
      "text/plain": [
       "7"
      ]
     },
     "execution_count": 13,
     "metadata": {},
     "output_type": "execute_result"
    }
   ],
   "source": [
    "max_DT_score  = -1\n",
    "max_feature = -1\n",
    "for index, val in enumerate(DT_scores):\n",
    "    if(max_DT_score < val):\n",
    "        max_DT_score = val\n",
    "        max_feature = index + 1\n",
    "max_feature"
   ]
  },
  {
   "cell_type": "code",
   "execution_count": 14,
   "id": "d4c339ca",
   "metadata": {},
   "outputs": [
    {
     "data": {
      "text/plain": [
       "99.37743190661479"
      ]
     },
     "execution_count": 14,
     "metadata": {},
     "output_type": "execute_result"
    }
   ],
   "source": [
    "model_DT = DecisionTreeClassifier(max_features = max_feature, random_state = 0)\n",
    "boosting_model = AdaBoostClassifier(n_estimators=50, base_estimator=model_DT,learning_rate=1, random_state = 0) \n",
    "get_score(boosting_model)*100"
   ]
  },
  {
   "cell_type": "markdown",
   "id": "9b34b999",
   "metadata": {},
   "source": [
    "## RF - BOOSTING"
   ]
  },
  {
   "cell_type": "code",
   "execution_count": 15,
   "id": "dba6f7ad",
   "metadata": {},
   "outputs": [
    {
     "data": {
      "text/plain": [
       "99.37743190661479"
      ]
     },
     "execution_count": 15,
     "metadata": {},
     "output_type": "execute_result"
    }
   ],
   "source": [
    "model_RF = RandomForestClassifier(n_estimators = 100, random_state = 0)\n",
    "boosting_model = AdaBoostClassifier(n_estimators=50, base_estimator=model_RF,learning_rate=1, random_state = 0) \n",
    "(get_score(boosting_model)*100)"
   ]
  },
  {
   "cell_type": "markdown",
   "id": "5da2559a",
   "metadata": {},
   "source": [
    "## Naive Bayes - BOOSTING"
   ]
  },
  {
   "cell_type": "code",
   "execution_count": 16,
   "id": "5bb44ce7",
   "metadata": {},
   "outputs": [
    {
     "data": {
      "text/plain": [
       "55.75875486381323"
      ]
     },
     "execution_count": 16,
     "metadata": {},
     "output_type": "execute_result"
    }
   ],
   "source": [
    "model_NB = GaussianNB()\n",
    "boosting_model = AdaBoostClassifier(n_estimators=50, base_estimator=model_NB,learning_rate=1, random_state = 0)\n",
    "(get_score(boosting_model)*100)"
   ]
  }
 ],
 "metadata": {
  "kernelspec": {
   "display_name": "Python 3 (ipykernel)",
   "language": "python",
   "name": "python3"
  },
  "language_info": {
   "codemirror_mode": {
    "name": "ipython",
    "version": 3
   },
   "file_extension": ".py",
   "mimetype": "text/x-python",
   "name": "python",
   "nbconvert_exporter": "python",
   "pygments_lexer": "ipython3",
   "version": "3.8.7"
  }
 },
 "nbformat": 4,
 "nbformat_minor": 5
}
