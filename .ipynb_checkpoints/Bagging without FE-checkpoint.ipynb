{
 "cells": [
  {
   "cell_type": "code",
   "execution_count": 2,
   "id": "fbcbb717",
   "metadata": {},
   "outputs": [],
   "source": [
    "import numpy as np\n",
    "import pandas as pd\n",
    "import matplotlib.pyplot as plt\n",
    "from matplotlib import rcParams\n",
    "from matplotlib.cm import rainbow\n",
    "%matplotlib inline\n",
    "from sklearn.linear_model import LogisticRegression\n",
    "from sklearn.neighbors import KNeighborsClassifier\n",
    "from sklearn.tree import DecisionTreeClassifier\n",
    "from sklearn.ensemble import RandomForestClassifier\n",
    "from sklearn.svm import SVC\n",
    "from sklearn.naive_bayes import GaussianNB\n",
    "from sklearn.preprocessing import StandardScaler\n",
    "from sklearn.model_selection import ShuffleSplit\n",
    "from sklearn.model_selection import cross_val_score\n",
    "from sklearn.ensemble import BaggingClassifier"
   ]
  },
  {
   "cell_type": "code",
   "execution_count": 3,
   "id": "0b4aa731",
   "metadata": {},
   "outputs": [
    {
     "name": "stdout",
     "output_type": "stream",
     "text": [
      "<class 'pandas.core.frame.DataFrame'>\n",
      "RangeIndex: 1025 entries, 0 to 1024\n",
      "Data columns (total 14 columns):\n",
      " #   Column    Non-Null Count  Dtype  \n",
      "---  ------    --------------  -----  \n",
      " 0   age       1025 non-null   int64  \n",
      " 1   sex       1025 non-null   int64  \n",
      " 2   cp        1025 non-null   int64  \n",
      " 3   trestbps  1025 non-null   int64  \n",
      " 4   chol      1025 non-null   int64  \n",
      " 5   fbs       1025 non-null   int64  \n",
      " 6   restecg   1025 non-null   int64  \n",
      " 7   thalach   1025 non-null   int64  \n",
      " 8   exang     1025 non-null   int64  \n",
      " 9   oldpeak   1025 non-null   float64\n",
      " 10  slope     1025 non-null   int64  \n",
      " 11  ca        1025 non-null   int64  \n",
      " 12  thal      1025 non-null   int64  \n",
      " 13  target    1025 non-null   int64  \n",
      "dtypes: float64(1), int64(13)\n",
      "memory usage: 112.2 KB\n"
     ]
    }
   ],
   "source": [
    "DATA_SET = pd.read_csv('./heart.csv')\n",
    "DATA_SET.info()"
   ]
  },
  {
   "cell_type": "code",
   "execution_count": 4,
   "id": "1bc08cc9",
   "metadata": {},
   "outputs": [
    {
     "data": {
      "text/html": [
       "<div>\n",
       "<style scoped>\n",
       "    .dataframe tbody tr th:only-of-type {\n",
       "        vertical-align: middle;\n",
       "    }\n",
       "\n",
       "    .dataframe tbody tr th {\n",
       "        vertical-align: top;\n",
       "    }\n",
       "\n",
       "    .dataframe thead th {\n",
       "        text-align: right;\n",
       "    }\n",
       "</style>\n",
       "<table border=\"1\" class=\"dataframe\">\n",
       "  <thead>\n",
       "    <tr style=\"text-align: right;\">\n",
       "      <th></th>\n",
       "      <th>age</th>\n",
       "      <th>trestbps</th>\n",
       "      <th>chol</th>\n",
       "      <th>thalach</th>\n",
       "      <th>oldpeak</th>\n",
       "      <th>target</th>\n",
       "      <th>sex_0</th>\n",
       "      <th>sex_1</th>\n",
       "      <th>cp_0</th>\n",
       "      <th>cp_1</th>\n",
       "      <th>...</th>\n",
       "      <th>slope_2</th>\n",
       "      <th>ca_0</th>\n",
       "      <th>ca_1</th>\n",
       "      <th>ca_2</th>\n",
       "      <th>ca_3</th>\n",
       "      <th>ca_4</th>\n",
       "      <th>thal_0</th>\n",
       "      <th>thal_1</th>\n",
       "      <th>thal_2</th>\n",
       "      <th>thal_3</th>\n",
       "    </tr>\n",
       "  </thead>\n",
       "  <tbody>\n",
       "    <tr>\n",
       "      <th>0</th>\n",
       "      <td>52</td>\n",
       "      <td>125</td>\n",
       "      <td>212</td>\n",
       "      <td>168</td>\n",
       "      <td>1.0</td>\n",
       "      <td>0</td>\n",
       "      <td>0</td>\n",
       "      <td>1</td>\n",
       "      <td>1</td>\n",
       "      <td>0</td>\n",
       "      <td>...</td>\n",
       "      <td>1</td>\n",
       "      <td>0</td>\n",
       "      <td>0</td>\n",
       "      <td>1</td>\n",
       "      <td>0</td>\n",
       "      <td>0</td>\n",
       "      <td>0</td>\n",
       "      <td>0</td>\n",
       "      <td>0</td>\n",
       "      <td>1</td>\n",
       "    </tr>\n",
       "    <tr>\n",
       "      <th>1</th>\n",
       "      <td>53</td>\n",
       "      <td>140</td>\n",
       "      <td>203</td>\n",
       "      <td>155</td>\n",
       "      <td>3.1</td>\n",
       "      <td>0</td>\n",
       "      <td>0</td>\n",
       "      <td>1</td>\n",
       "      <td>1</td>\n",
       "      <td>0</td>\n",
       "      <td>...</td>\n",
       "      <td>0</td>\n",
       "      <td>1</td>\n",
       "      <td>0</td>\n",
       "      <td>0</td>\n",
       "      <td>0</td>\n",
       "      <td>0</td>\n",
       "      <td>0</td>\n",
       "      <td>0</td>\n",
       "      <td>0</td>\n",
       "      <td>1</td>\n",
       "    </tr>\n",
       "    <tr>\n",
       "      <th>2</th>\n",
       "      <td>70</td>\n",
       "      <td>145</td>\n",
       "      <td>174</td>\n",
       "      <td>125</td>\n",
       "      <td>2.6</td>\n",
       "      <td>0</td>\n",
       "      <td>0</td>\n",
       "      <td>1</td>\n",
       "      <td>1</td>\n",
       "      <td>0</td>\n",
       "      <td>...</td>\n",
       "      <td>0</td>\n",
       "      <td>1</td>\n",
       "      <td>0</td>\n",
       "      <td>0</td>\n",
       "      <td>0</td>\n",
       "      <td>0</td>\n",
       "      <td>0</td>\n",
       "      <td>0</td>\n",
       "      <td>0</td>\n",
       "      <td>1</td>\n",
       "    </tr>\n",
       "    <tr>\n",
       "      <th>3</th>\n",
       "      <td>61</td>\n",
       "      <td>148</td>\n",
       "      <td>203</td>\n",
       "      <td>161</td>\n",
       "      <td>0.0</td>\n",
       "      <td>0</td>\n",
       "      <td>0</td>\n",
       "      <td>1</td>\n",
       "      <td>1</td>\n",
       "      <td>0</td>\n",
       "      <td>...</td>\n",
       "      <td>1</td>\n",
       "      <td>0</td>\n",
       "      <td>1</td>\n",
       "      <td>0</td>\n",
       "      <td>0</td>\n",
       "      <td>0</td>\n",
       "      <td>0</td>\n",
       "      <td>0</td>\n",
       "      <td>0</td>\n",
       "      <td>1</td>\n",
       "    </tr>\n",
       "    <tr>\n",
       "      <th>4</th>\n",
       "      <td>62</td>\n",
       "      <td>138</td>\n",
       "      <td>294</td>\n",
       "      <td>106</td>\n",
       "      <td>1.9</td>\n",
       "      <td>0</td>\n",
       "      <td>1</td>\n",
       "      <td>0</td>\n",
       "      <td>1</td>\n",
       "      <td>0</td>\n",
       "      <td>...</td>\n",
       "      <td>0</td>\n",
       "      <td>0</td>\n",
       "      <td>0</td>\n",
       "      <td>0</td>\n",
       "      <td>1</td>\n",
       "      <td>0</td>\n",
       "      <td>0</td>\n",
       "      <td>0</td>\n",
       "      <td>1</td>\n",
       "      <td>0</td>\n",
       "    </tr>\n",
       "  </tbody>\n",
       "</table>\n",
       "<p>5 rows × 31 columns</p>\n",
       "</div>"
      ],
      "text/plain": [
       "   age  trestbps  chol  thalach  oldpeak  target  sex_0  sex_1  cp_0  cp_1  \\\n",
       "0   52       125   212      168      1.0       0      0      1     1     0   \n",
       "1   53       140   203      155      3.1       0      0      1     1     0   \n",
       "2   70       145   174      125      2.6       0      0      1     1     0   \n",
       "3   61       148   203      161      0.0       0      0      1     1     0   \n",
       "4   62       138   294      106      1.9       0      1      0     1     0   \n",
       "\n",
       "   ...  slope_2  ca_0  ca_1  ca_2  ca_3  ca_4  thal_0  thal_1  thal_2  thal_3  \n",
       "0  ...        1     0     0     1     0     0       0       0       0       1  \n",
       "1  ...        0     1     0     0     0     0       0       0       0       1  \n",
       "2  ...        0     1     0     0     0     0       0       0       0       1  \n",
       "3  ...        1     0     1     0     0     0       0       0       0       1  \n",
       "4  ...        0     0     0     0     1     0       0       0       1       0  \n",
       "\n",
       "[5 rows x 31 columns]"
      ]
     },
     "execution_count": 4,
     "metadata": {},
     "output_type": "execute_result"
    }
   ],
   "source": [
    "DATA_SET = pd.get_dummies(DATA_SET, columns = ['sex', 'cp', 'fbs', 'restecg', 'exang', 'slope', 'ca', 'thal'])\n",
    "DATA_SET.head()"
   ]
  },
  {
   "cell_type": "code",
   "execution_count": 5,
   "id": "e5361408",
   "metadata": {},
   "outputs": [
    {
     "data": {
      "text/html": [
       "<div>\n",
       "<style scoped>\n",
       "    .dataframe tbody tr th:only-of-type {\n",
       "        vertical-align: middle;\n",
       "    }\n",
       "\n",
       "    .dataframe tbody tr th {\n",
       "        vertical-align: top;\n",
       "    }\n",
       "\n",
       "    .dataframe thead th {\n",
       "        text-align: right;\n",
       "    }\n",
       "</style>\n",
       "<table border=\"1\" class=\"dataframe\">\n",
       "  <thead>\n",
       "    <tr style=\"text-align: right;\">\n",
       "      <th></th>\n",
       "      <th>age</th>\n",
       "      <th>trestbps</th>\n",
       "      <th>chol</th>\n",
       "      <th>thalach</th>\n",
       "      <th>oldpeak</th>\n",
       "      <th>target</th>\n",
       "      <th>sex_0</th>\n",
       "      <th>sex_1</th>\n",
       "      <th>cp_0</th>\n",
       "      <th>cp_1</th>\n",
       "      <th>...</th>\n",
       "      <th>slope_2</th>\n",
       "      <th>ca_0</th>\n",
       "      <th>ca_1</th>\n",
       "      <th>ca_2</th>\n",
       "      <th>ca_3</th>\n",
       "      <th>ca_4</th>\n",
       "      <th>thal_0</th>\n",
       "      <th>thal_1</th>\n",
       "      <th>thal_2</th>\n",
       "      <th>thal_3</th>\n",
       "    </tr>\n",
       "  </thead>\n",
       "  <tbody>\n",
       "    <tr>\n",
       "      <th>0</th>\n",
       "      <td>-0.268437</td>\n",
       "      <td>-0.377636</td>\n",
       "      <td>-0.659332</td>\n",
       "      <td>0.821321</td>\n",
       "      <td>-0.060888</td>\n",
       "      <td>0</td>\n",
       "      <td>0</td>\n",
       "      <td>1</td>\n",
       "      <td>1</td>\n",
       "      <td>0</td>\n",
       "      <td>...</td>\n",
       "      <td>1</td>\n",
       "      <td>0</td>\n",
       "      <td>0</td>\n",
       "      <td>1</td>\n",
       "      <td>0</td>\n",
       "      <td>0</td>\n",
       "      <td>0</td>\n",
       "      <td>0</td>\n",
       "      <td>0</td>\n",
       "      <td>1</td>\n",
       "    </tr>\n",
       "    <tr>\n",
       "      <th>1</th>\n",
       "      <td>-0.158157</td>\n",
       "      <td>0.479107</td>\n",
       "      <td>-0.833861</td>\n",
       "      <td>0.255968</td>\n",
       "      <td>1.727137</td>\n",
       "      <td>0</td>\n",
       "      <td>0</td>\n",
       "      <td>1</td>\n",
       "      <td>1</td>\n",
       "      <td>0</td>\n",
       "      <td>...</td>\n",
       "      <td>0</td>\n",
       "      <td>1</td>\n",
       "      <td>0</td>\n",
       "      <td>0</td>\n",
       "      <td>0</td>\n",
       "      <td>0</td>\n",
       "      <td>0</td>\n",
       "      <td>0</td>\n",
       "      <td>0</td>\n",
       "      <td>1</td>\n",
       "    </tr>\n",
       "    <tr>\n",
       "      <th>2</th>\n",
       "      <td>1.716595</td>\n",
       "      <td>0.764688</td>\n",
       "      <td>-1.396233</td>\n",
       "      <td>-1.048692</td>\n",
       "      <td>1.301417</td>\n",
       "      <td>0</td>\n",
       "      <td>0</td>\n",
       "      <td>1</td>\n",
       "      <td>1</td>\n",
       "      <td>0</td>\n",
       "      <td>...</td>\n",
       "      <td>0</td>\n",
       "      <td>1</td>\n",
       "      <td>0</td>\n",
       "      <td>0</td>\n",
       "      <td>0</td>\n",
       "      <td>0</td>\n",
       "      <td>0</td>\n",
       "      <td>0</td>\n",
       "      <td>0</td>\n",
       "      <td>1</td>\n",
       "    </tr>\n",
       "    <tr>\n",
       "      <th>3</th>\n",
       "      <td>0.724079</td>\n",
       "      <td>0.936037</td>\n",
       "      <td>-0.833861</td>\n",
       "      <td>0.516900</td>\n",
       "      <td>-0.912329</td>\n",
       "      <td>0</td>\n",
       "      <td>0</td>\n",
       "      <td>1</td>\n",
       "      <td>1</td>\n",
       "      <td>0</td>\n",
       "      <td>...</td>\n",
       "      <td>1</td>\n",
       "      <td>0</td>\n",
       "      <td>1</td>\n",
       "      <td>0</td>\n",
       "      <td>0</td>\n",
       "      <td>0</td>\n",
       "      <td>0</td>\n",
       "      <td>0</td>\n",
       "      <td>0</td>\n",
       "      <td>1</td>\n",
       "    </tr>\n",
       "    <tr>\n",
       "      <th>4</th>\n",
       "      <td>0.834359</td>\n",
       "      <td>0.364875</td>\n",
       "      <td>0.930822</td>\n",
       "      <td>-1.874977</td>\n",
       "      <td>0.705408</td>\n",
       "      <td>0</td>\n",
       "      <td>1</td>\n",
       "      <td>0</td>\n",
       "      <td>1</td>\n",
       "      <td>0</td>\n",
       "      <td>...</td>\n",
       "      <td>0</td>\n",
       "      <td>0</td>\n",
       "      <td>0</td>\n",
       "      <td>0</td>\n",
       "      <td>1</td>\n",
       "      <td>0</td>\n",
       "      <td>0</td>\n",
       "      <td>0</td>\n",
       "      <td>1</td>\n",
       "      <td>0</td>\n",
       "    </tr>\n",
       "  </tbody>\n",
       "</table>\n",
       "<p>5 rows × 31 columns</p>\n",
       "</div>"
      ],
      "text/plain": [
       "        age  trestbps      chol   thalach   oldpeak  target  sex_0  sex_1  \\\n",
       "0 -0.268437 -0.377636 -0.659332  0.821321 -0.060888       0      0      1   \n",
       "1 -0.158157  0.479107 -0.833861  0.255968  1.727137       0      0      1   \n",
       "2  1.716595  0.764688 -1.396233 -1.048692  1.301417       0      0      1   \n",
       "3  0.724079  0.936037 -0.833861  0.516900 -0.912329       0      0      1   \n",
       "4  0.834359  0.364875  0.930822 -1.874977  0.705408       0      1      0   \n",
       "\n",
       "   cp_0  cp_1  ...  slope_2  ca_0  ca_1  ca_2  ca_3  ca_4  thal_0  thal_1  \\\n",
       "0     1     0  ...        1     0     0     1     0     0       0       0   \n",
       "1     1     0  ...        0     1     0     0     0     0       0       0   \n",
       "2     1     0  ...        0     1     0     0     0     0       0       0   \n",
       "3     1     0  ...        1     0     1     0     0     0       0       0   \n",
       "4     1     0  ...        0     0     0     0     1     0       0       0   \n",
       "\n",
       "   thal_2  thal_3  \n",
       "0       0       1  \n",
       "1       0       1  \n",
       "2       0       1  \n",
       "3       0       1  \n",
       "4       1       0  \n",
       "\n",
       "[5 rows x 31 columns]"
      ]
     },
     "execution_count": 5,
     "metadata": {},
     "output_type": "execute_result"
    }
   ],
   "source": [
    "standardScaler = StandardScaler()\n",
    "columns_to_scale = ['age', 'trestbps', 'chol', 'thalach', 'oldpeak']\n",
    "DATA_SET[columns_to_scale] = standardScaler.fit_transform(DATA_SET[columns_to_scale])\n",
    "DATA_SET.head()"
   ]
  },
  {
   "cell_type": "code",
   "execution_count": 6,
   "id": "25f798e7",
   "metadata": {},
   "outputs": [],
   "source": [
    "Y = DATA_SET['target'].values\n",
    "X = DATA_SET.drop(['target'], axis = 1).values"
   ]
  },
  {
   "cell_type": "code",
   "execution_count": 7,
   "id": "8bbe68d7",
   "metadata": {},
   "outputs": [],
   "source": [
    "def get_score(model):\n",
    "    ssplit=ShuffleSplit(n_splits=10,test_size=0.25,random_state = 0)\n",
    "    results=cross_val_score(model,X,Y,cv=ssplit)\n",
    "    return np.mean(results)"
   ]
  },
  {
   "cell_type": "markdown",
   "id": "a1654a40",
   "metadata": {},
   "source": [
    "## KNN - BAGGING"
   ]
  },
  {
   "cell_type": "code",
   "execution_count": 8,
   "id": "5c570071",
   "metadata": {},
   "outputs": [],
   "source": [
    "KNN_scores = []\n",
    "for k in range(1,21,1):\n",
    "    KNN_model = KNeighborsClassifier(n_neighbors = k)\n",
    "    bagging_model = BaggingClassifier(KNN_model,random_state = 0) \n",
    "    KNN_scores.append(get_score(bagging_model)*100)"
   ]
  },
  {
   "cell_type": "code",
   "execution_count": 9,
   "id": "7c338888",
   "metadata": {},
   "outputs": [
    {
     "data": {
      "text/plain": [
       "Text(0.5, 1.0, 'K Neighbors Classifier scores for different K values')"
      ]
     },
     "execution_count": 9,
     "metadata": {},
     "output_type": "execute_result"
    },
    {
     "data": {
      "image/png": "[encoded data removed]",
      "text/plain": [
       "<Figure size 432x288 with 1 Axes>"
      ]
     },
     "metadata": {
      "needs_background": "light"
     },
     "output_type": "display_data"
    }
   ],
   "source": [
    "plt.plot([k for k in range(1, 21)], KNN_scores, color = 'red')\n",
    "plt.xlabel('Number of Neighbors (K)')\n",
    "plt.ylabel('Scores')\n",
    "plt.title('K Neighbors Classifier scores for different K values')"
   ]
  },
  {
   "cell_type": "code",
   "execution_count": 10,
   "id": "c95c11cd",
   "metadata": {},
   "outputs": [
    {
     "data": {
      "text/plain": [
       "1"
      ]
     },
     "execution_count": 10,
     "metadata": {},
     "output_type": "execute_result"
    }
   ],
   "source": [
    "max_KNN_score  = -1\n",
    "max_KNN_neigb = -1\n",
    "for index, val in enumerate(KNN_scores):\n",
    "    if(max_KNN_score < val):\n",
    "        max_KNN_score = val\n",
    "        max_KNN_neigb = index+1\n",
    "max_KNN_neigb"
   ]
  },
  {
   "cell_type": "code",
   "execution_count": 11,
   "id": "33964253",
   "metadata": {},
   "outputs": [
    {
     "data": {
      "text/plain": [
       "98.13229571984436"
      ]
     },
     "execution_count": 11,
     "metadata": {},
     "output_type": "execute_result"
    }
   ],
   "source": [
    "KNN_model = KNeighborsClassifier(n_neighbors = max_KNN_neigb)\n",
    "bagging_model = BaggingClassifier(KNN_model,random_state = 0) \n",
    "get_score(bagging_model)*100"
   ]
  },
  {
   "cell_type": "markdown",
   "id": "f5bdc64e",
   "metadata": {},
   "source": [
    "## SVM - BAGGING"
   ]
  },
  {
   "cell_type": "code",
   "execution_count": 12,
   "id": "b8919155",
   "metadata": {},
   "outputs": [
    {
     "data": {
      "text/plain": [
       "{'linear': 0.8642023346303503,\n",
       " 'poly': 0.9319066147859922,\n",
       " 'rbf': 0.9093385214007783,\n",
       " 'sigmoid': 0.7926070038910507}"
      ]
     },
     "execution_count": 12,
     "metadata": {},
     "output_type": "execute_result"
    }
   ],
   "source": [
    "SVM_scores = {}\n",
    "kernels = ['linear', 'poly', 'rbf', 'sigmoid']\n",
    "for i in range(len(kernels)):\n",
    "    model_SVM = SVC(kernel = kernels[i])\n",
    "    bagging_model = BaggingClassifier(model_SVM,random_state = 0) \n",
    "    SVM_scores[kernels[i]] = (get_score(bagging_model))\n",
    "SVM_scores"
   ]
  },
  {
   "cell_type": "code",
   "execution_count": 13,
   "id": "37492cb7",
   "metadata": {},
   "outputs": [
    {
     "data": {
      "text/plain": [
       "93.19066147859922"
      ]
     },
     "execution_count": 13,
     "metadata": {},
     "output_type": "execute_result"
    }
   ],
   "source": [
    "model_SVM = SVC(kernel = 'poly')\n",
    "bagging_model = BaggingClassifier(model_SVM,random_state = 0)\n",
    "get_score(bagging_model) * 100"
   ]
  },
  {
   "cell_type": "markdown",
   "id": "9ba234aa",
   "metadata": {},
   "source": [
    "## DT - BAGGING"
   ]
  },
  {
   "cell_type": "code",
   "execution_count": 25,
   "id": "79d63966",
   "metadata": {},
   "outputs": [],
   "source": [
    "DT_scores = []\n",
    "for i in range(1, len(DATA_SET.columns)):\n",
    "    model_DT = DecisionTreeClassifier(max_features = i, random_state = 0)\n",
    "    bagging_model = BaggingClassifier(model_DT,random_state = 0) \n",
    "    DT_scores.append(get_score(bagging_model))"
   ]
  },
  {
   "cell_type": "code",
   "execution_count": 26,
   "id": "f2853b56",
   "metadata": {},
   "outputs": [
    {
     "data": {
      "text/plain": [
       "Text(0.5, 1.0, 'DT Classifier Accuracy for different Max Features')"
      ]
     },
     "execution_count": 26,
     "metadata": {},
     "output_type": "execute_result"
    },
    {
     "data": {
      "image/png": "[encoded data removed]",
      "text/plain": [
       "<Figure size 432x288 with 1 Axes>"
      ]
     },
     "metadata": {
      "needs_background": "light"
     },
     "output_type": "display_data"
    }
   ],
   "source": [
    "plt.plot([k for k in range(1, len(DATA_SET.columns))], DT_scores, color = 'red')\n",
    "plt.xlabel('Max Features')\n",
    "plt.ylabel('Accuracy')\n",
    "plt.title('DT Classifier Accuracy for different Max Features')"
   ]
  },
  {
   "cell_type": "code",
   "execution_count": 27,
   "id": "cc6048cb",
   "metadata": {},
   "outputs": [
    {
     "data": {
      "text/plain": [
       "2"
      ]
     },
     "execution_count": 27,
     "metadata": {},
     "output_type": "execute_result"
    }
   ],
   "source": [
    "max_DT_score  = -1\n",
    "max_feature = -1\n",
    "for index, val in enumerate(DT_scores):\n",
    "    if(max_DT_score < val):\n",
    "        max_DT_score = val\n",
    "        max_feature = index + 1\n",
    "max_feature"
   ]
  },
  {
   "cell_type": "code",
   "execution_count": 28,
   "id": "40310862",
   "metadata": {},
   "outputs": [
    {
     "data": {
      "text/plain": [
       "99.22178988326849"
      ]
     },
     "execution_count": 28,
     "metadata": {},
     "output_type": "execute_result"
    }
   ],
   "source": [
    "model_DT = DecisionTreeClassifier(max_features = max_feature, random_state = 0)\n",
    "bagging_model = BaggingClassifier(model_DT,random_state = 0) \n",
    "get_score(bagging_model)*100"
   ]
  },
  {
   "cell_type": "markdown",
   "id": "7cd7f0fb",
   "metadata": {},
   "source": [
    "## RF - BAGGING"
   ]
  },
  {
   "cell_type": "code",
   "execution_count": 29,
   "id": "9a619804",
   "metadata": {},
   "outputs": [
    {
     "data": {
      "text/plain": [
       "98.01556420233464"
      ]
     },
     "execution_count": 29,
     "metadata": {},
     "output_type": "execute_result"
    }
   ],
   "source": [
    "model_RF = RandomForestClassifier(n_estimators = 100, random_state = 0)\n",
    "bagging_model = BaggingClassifier(model_RF, random_state = 0) \n",
    "(get_score(bagging_model)*100)"
   ]
  },
  {
   "cell_type": "markdown",
   "id": "419b1679",
   "metadata": {},
   "source": [
    "## Naive Bayes - BAGGING"
   ]
  },
  {
   "cell_type": "code",
   "execution_count": 30,
   "id": "1d50fe5a",
   "metadata": {},
   "outputs": [
    {
     "data": {
      "text/plain": [
       "82.49027237354086"
      ]
     },
     "execution_count": 30,
     "metadata": {},
     "output_type": "execute_result"
    }
   ],
   "source": [
    "model_NB = GaussianNB()\n",
    "bagging_model = BaggingClassifier(model_NB, random_state = 0) \n",
    "(get_score(bagging_model)*100)"
   ]
  }
 ],
 "metadata": {
  "kernelspec": {
   "display_name": "Python 3 (ipykernel)",
   "language": "python",
   "name": "python3"
  },
  "language_info": {
   "codemirror_mode": {
    "name": "ipython",
    "version": 3
   },
   "file_extension": ".py",
   "mimetype": "text/x-python",
   "name": "python",
   "nbconvert_exporter": "python",
   "pygments_lexer": "ipython3",
   "version": "3.8.7"
  }
 },
 "nbformat": 4,
 "nbformat_minor": 5
}
